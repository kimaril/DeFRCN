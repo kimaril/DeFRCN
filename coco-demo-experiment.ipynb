{
 "cells": [
  {
   "cell_type": "code",
   "execution_count": 1,
   "metadata": {},
   "outputs": [],
   "source": [
    "%load_ext autoreload\n",
    "%autoreload 2"
   ]
  },
  {
   "cell_type": "code",
   "execution_count": 2,
   "metadata": {},
   "outputs": [],
   "source": [
    "from inference import DetDescriptor\n",
    "import os\n",
    "import numpy as np\n",
    "import torch\n",
    "import gc\n",
    "np.random.seed(67)"
   ]
  },
  {
   "cell_type": "code",
   "execution_count": 3,
   "metadata": {},
   "outputs": [],
   "source": [
    "rand_indices = list(np.random.randint(low=0, high=6777, size=500))"
   ]
  },
  {
   "cell_type": "code",
   "execution_count": 14,
   "metadata": {},
   "outputs": [
    {
     "name": "stdout",
     "output_type": "stream",
     "text": [
      "froze proposal generator parameters\n"
     ]
    }
   ],
   "source": [
    "ddesc = DetDescriptor(\"configs/coco/defrcn_det_r101_base.yaml\", detection_th=0.5, bbox_th=0.7)"
   ]
  },
  {
   "cell_type": "code",
   "execution_count": 15,
   "metadata": {},
   "outputs": [],
   "source": [
    "model = ddesc.detector.model\n",
    "ddesc.detector.model = model.eval()\n",
    "del model"
   ]
  },
  {
   "cell_type": "code",
   "execution_count": null,
   "metadata": {
    "scrolled": true
   },
   "outputs": [],
   "source": [
    "! cat -n paths_coco_test_100.txt"
   ]
  },
  {
   "cell_type": "code",
   "execution_count": 17,
   "metadata": {},
   "outputs": [],
   "source": [
    "torch.cuda.empty_cache()"
   ]
  },
  {
   "cell_type": "code",
   "execution_count": 16,
   "metadata": {
    "scrolled": false
   },
   "outputs": [
    {
     "data": {
      "text/plain": [
       "3349"
      ]
     },
     "execution_count": 16,
     "metadata": {},
     "output_type": "execute_result"
    }
   ],
   "source": [
    "gc.collect()"
   ]
  },
  {
   "cell_type": "code",
   "execution_count": 19,
   "metadata": {},
   "outputs": [
    {
     "name": "stdout",
     "output_type": "stream",
     "text": [
      "['/home/kim/juche/projects/DeFRCN/datasets/main/JPEGImages/02779.jpg', '/home/kim/juche/projects/DeFRCN/datasets/main/JPEGImages/00103.jpg', '/home/kim/juche/projects/DeFRCN/datasets/main/JPEGImages/06349.jpg', '/home/kim/juche/projects/DeFRCN/datasets/main/JPEGImages/06374.jpg', '/home/kim/juche/projects/DeFRCN/datasets/main/JPEGImages/00167.jpg', '/home/kim/juche/projects/DeFRCN/datasets/main/JPEGImages/06206.jpg', '/home/kim/juche/projects/DeFRCN/datasets/main/JPEGImages/03603.jpg', '/home/kim/juche/projects/DeFRCN/datasets/main/JPEGImages/06324.jpg', '/home/kim/juche/projects/DeFRCN/datasets/main/JPEGImages/02410.jpg', '/home/kim/juche/projects/DeFRCN/datasets/main/JPEGImages/02958.jpg']\n"
     ]
    },
    {
     "name": "stderr",
     "output_type": "stream",
     "text": [
      " 20%|██        | 2/10 [00:00<00:00, 19.61it/s]"
     ]
    },
    {
     "name": "stdout",
     "output_type": "stream",
     "text": [
      "DRAWING: 02779.jpg\n",
      "DRAWING: 00103.jpg\n",
      "DRAWING: 06349.jpg\n",
      "DRAWING: 06374.jpg\n"
     ]
    },
    {
     "name": "stderr",
     "output_type": "stream",
     "text": [
      " 60%|██████    | 6/10 [00:00<00:00, 15.16it/s]"
     ]
    },
    {
     "name": "stdout",
     "output_type": "stream",
     "text": [
      "DRAWING: 00167.jpg\n",
      "DRAWING: 06206.jpg\n",
      "DRAWING: 03603.jpg\n",
      "DRAWING: 06324.jpg\n"
     ]
    },
    {
     "name": "stderr",
     "output_type": "stream",
     "text": [
      "100%|██████████| 10/10 [00:00<00:00, 16.74it/s]"
     ]
    },
    {
     "name": "stdout",
     "output_type": "stream",
     "text": [
      "DRAWING: 02410.jpg\n",
      "DRAWING: 02958.jpg\n",
      "Saved results to: ./results/detection_coco_20220519-1907/result.json\n"
     ]
    },
    {
     "name": "stderr",
     "output_type": "stream",
     "text": [
      "\n"
     ]
    },
    {
     "data": {
      "text/plain": [
       "'./results/detection_coco_20220519-1907/result.json'"
      ]
     },
     "execution_count": 19,
     "metadata": {},
     "output_type": "execute_result"
    }
   ],
   "source": [
    "# %%timeit\n",
    "# %%memit TODO: not found\n",
    "ddesc.describe_image_list(files_list_txt=\"paths_coco_test_10.txt\", out_dir='results/detection_coco')"
   ]
  },
  {
   "cell_type": "code",
   "execution_count": null,
   "metadata": {},
   "outputs": [],
   "source": [
    "# %%timeit\n",
    "# %%memit TODO: not found\n",
    "ddesc.describe_image_list(files_list_txt=\"paths_coco_test_100.txt\", out_dir='results/detection_coco')"
   ]
  },
  {
   "cell_type": "code",
   "execution_count": 4,
   "metadata": {},
   "outputs": [],
   "source": [
    "def get_image_fn_listing(rootdir, indices=None):\n",
    "    rootdir_abs = os.path.abspath(rootdir)\n",
    "#     print(rootdir_abs)\n",
    "    paths = np.array([os.path.join(rootdir_abs, _)+\"\\n\" \\\n",
    "                      for _ in os.listdir(rootdir_abs) \\\n",
    "                      if os.path.splitext(_)[-1] in [\".jpg\"]])\n",
    "    if indices:\n",
    "        paths = paths[indices]\n",
    "    return list(paths)"
   ]
  },
  {
   "cell_type": "code",
   "execution_count": 5,
   "metadata": {},
   "outputs": [],
   "source": [
    "with open(\"paths_coco_test_500.txt\", encoding=\"utf-8\", mode=\"w\") as f:\n",
    "    paths = get_image_fn_listing(rootdir=\"./datasets/main/JPEGImages/\", indices=rand_indices)\n",
    "    f.writelines(paths)"
   ]
  },
  {
   "cell_type": "code",
   "execution_count": 6,
   "metadata": {},
   "outputs": [],
   "source": [
    "with open(\"paths_coco_test_100.txt\", encoding=\"utf-8\", mode=\"r\") as f:\n",
    "    paths = f.readlines()[:64]\n",
    "#     paths.extend(f.readlines()[66:100])\n",
    "with open(\"paths_coco_test_100.txt\", encoding=\"utf-8\", mode=\"w\") as f:    \n",
    "    f.writelines(paths)"
   ]
  },
  {
   "cell_type": "code",
   "execution_count": 1,
   "metadata": {},
   "outputs": [],
   "source": [
    "# I FUCKING HATE DETECTRON LIBRARY"
   ]
  }
 ],
 "metadata": {
  "kernelspec": {
   "display_name": "defrcn",
   "language": "python",
   "name": "defrcn"
  },
  "language_info": {
   "codemirror_mode": {
    "name": "ipython",
    "version": 3
   },
   "file_extension": ".py",
   "mimetype": "text/x-python",
   "name": "python",
   "nbconvert_exporter": "python",
   "pygments_lexer": "ipython3",
   "version": "3.6.9"
  },
  "latex_envs": {
   "LaTeX_envs_menu_present": true,
   "autoclose": false,
   "autocomplete": true,
   "bibliofile": "biblio.bib",
   "cite_by": "apalike",
   "current_citInitial": 1,
   "eqLabelWithNumbers": true,
   "eqNumInitial": 1,
   "hotkeys": {
    "equation": "Ctrl-E",
    "itemize": "Ctrl-I"
   },
   "labels_anchors": false,
   "latex_user_defs": false,
   "report_style_numbering": false,
   "user_envs_cfg": false
  }
 },
 "nbformat": 4,
 "nbformat_minor": 2
}
