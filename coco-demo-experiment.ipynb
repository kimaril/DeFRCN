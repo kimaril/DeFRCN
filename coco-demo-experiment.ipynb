{
 "cells": [
  {
   "cell_type": "code",
   "execution_count": 1,
   "metadata": {},
   "outputs": [],
   "source": [
    "%load_ext autoreload\n",
    "%autoreload 2"
   ]
  },
  {
   "cell_type": "code",
   "execution_count": 2,
   "metadata": {},
   "outputs": [],
   "source": [
    "from inference import DetDescriptor\n",
    "import os\n",
    "import numpy as np\n",
    "import torch\n",
    "import gc\n",
    "np.random.seed(67)"
   ]
  },
  {
   "cell_type": "code",
   "execution_count": 3,
   "metadata": {},
   "outputs": [],
   "source": [
    "rand_indices = list(np.random.randint(low=0, high=6777, size=500))"
   ]
  },
  {
   "cell_type": "code",
   "execution_count": 14,
   "metadata": {},
   "outputs": [
    {
     "name": "stdout",
     "output_type": "stream",
     "text": [
      "froze proposal generator parameters\n"
     ]
    }
   ],
   "source": [
    "ddesc = DetDescriptor(\"configs/coco/defrcn_det_r101_base.yaml\", detection_th=0.5, bbox_th=0.7)"
   ]
  },
  {
   "cell_type": "code",
   "execution_count": 15,
   "metadata": {},
   "outputs": [],
   "source": [
    "model = ddesc.detector.model\n",
    "ddesc.detector.model = model.eval()\n",
    "del model"
   ]
  },
  {
   "cell_type": "code",
   "execution_count": 16,
   "metadata": {
    "scrolled": false
   },
   "outputs": [
    {
     "data": {
      "text/plain": [
       "3349"
      ]
     },
     "execution_count": 16,
     "metadata": {},
     "output_type": "execute_result"
    }
   ],
   "source": [
    "gc.collect()"
   ]
  },
  {
   "cell_type": "code",
   "execution_count": 17,
   "metadata": {},
   "outputs": [],
   "source": [
    "torch.cuda.empty_cache()"
   ]
  },
  {
   "cell_type": "code",
   "execution_count": 18,
   "metadata": {
    "scrolled": true
   },
   "outputs": [
    {
     "name": "stdout",
     "output_type": "stream",
     "text": [
      "     1\t/home/kim/juche/projects/DeFRCN/datasets/main/JPEGImages/03711.jpg\r\n",
      "     2\t/home/kim/juche/projects/DeFRCN/datasets/main/JPEGImages/04660.jpg\r\n",
      "     3\t/home/kim/juche/projects/DeFRCN/datasets/main/JPEGImages/05168.jpg\r\n",
      "     4\t/home/kim/juche/projects/DeFRCN/datasets/main/JPEGImages/03080.jpg\r\n",
      "     5\t/home/kim/juche/projects/DeFRCN/datasets/main/JPEGImages/04671.jpg\r\n",
      "     6\t/home/kim/juche/projects/DeFRCN/datasets/main/JPEGImages/00843.jpg\r\n",
      "     7\t/home/kim/juche/projects/DeFRCN/datasets/main/JPEGImages/03771.jpg\r\n",
      "     8\t/home/kim/juche/projects/DeFRCN/datasets/main/JPEGImages/05665.jpg\r\n",
      "     9\t/home/kim/juche/projects/DeFRCN/datasets/main/JPEGImages/05584.jpg\r\n",
      "    10\t/home/kim/juche/projects/DeFRCN/datasets/main/JPEGImages/04667.jpg\r\n",
      "    11\t/home/kim/juche/projects/DeFRCN/datasets/main/JPEGImages/06361.jpg\r\n",
      "    12\t/home/kim/juche/projects/DeFRCN/datasets/main/JPEGImages/04979.jpg\r\n",
      "    13\t/home/kim/juche/projects/DeFRCN/datasets/main/JPEGImages/00260.jpg\r\n",
      "    14\t/home/kim/juche/projects/DeFRCN/datasets/main/JPEGImages/00661.jpg\r\n",
      "    15\t/home/kim/juche/projects/DeFRCN/datasets/main/JPEGImages/04722.jpg\r\n",
      "    16\t/home/kim/juche/projects/DeFRCN/datasets/main/JPEGImages/04165.jpg\r\n",
      "    17\t/home/kim/juche/projects/DeFRCN/datasets/main/JPEGImages/00908.jpg\r\n",
      "    18\t/home/kim/juche/projects/DeFRCN/datasets/main/JPEGImages/06622.jpg\r\n",
      "    19\t/home/kim/juche/projects/DeFRCN/datasets/main/JPEGImages/00788.jpg\r\n",
      "    20\t/home/kim/juche/projects/DeFRCN/datasets/main/JPEGImages/00516.jpg\r\n",
      "    21\t/home/kim/juche/projects/DeFRCN/datasets/main/JPEGImages/03783.jpg\r\n",
      "    22\t/home/kim/juche/projects/DeFRCN/datasets/main/JPEGImages/00778.jpg\r\n",
      "    23\t/home/kim/juche/projects/DeFRCN/datasets/main/JPEGImages/01738.jpg\r\n",
      "    24\t/home/kim/juche/projects/DeFRCN/datasets/main/JPEGImages/01960.jpg\r\n",
      "    25\t/home/kim/juche/projects/DeFRCN/datasets/main/JPEGImages/03088.jpg\r\n",
      "    26\t/home/kim/juche/projects/DeFRCN/datasets/main/JPEGImages/01054.jpg\r\n",
      "    27\t/home/kim/juche/projects/DeFRCN/datasets/main/JPEGImages/06254.jpg\r\n",
      "    28\t/home/kim/juche/projects/DeFRCN/datasets/main/JPEGImages/01947.jpg\r\n",
      "    29\t/home/kim/juche/projects/DeFRCN/datasets/main/JPEGImages/04710.jpg\r\n",
      "    30\t/home/kim/juche/projects/DeFRCN/datasets/main/JPEGImages/00586.jpg\r\n",
      "    31\t/home/kim/juche/projects/DeFRCN/datasets/main/JPEGImages/05852.jpg\r\n",
      "    32\t/home/kim/juche/projects/DeFRCN/datasets/main/JPEGImages/06355.jpg\r\n",
      "    33\t/home/kim/juche/projects/DeFRCN/datasets/main/JPEGImages/00910.jpg\r\n",
      "    34\t/home/kim/juche/projects/DeFRCN/datasets/main/JPEGImages/01441.jpg\r\n",
      "    35\t/home/kim/juche/projects/DeFRCN/datasets/main/JPEGImages/03834.jpg\r\n",
      "    36\t/home/kim/juche/projects/DeFRCN/datasets/main/JPEGImages/00549.jpg\r\n",
      "    37\t/home/kim/juche/projects/DeFRCN/datasets/main/JPEGImages/02766.jpg\r\n",
      "    38\t/home/kim/juche/projects/DeFRCN/datasets/main/JPEGImages/05257.jpg\r\n",
      "    39\t/home/kim/juche/projects/DeFRCN/datasets/main/JPEGImages/04146.jpg\r\n",
      "    40\t/home/kim/juche/projects/DeFRCN/datasets/main/JPEGImages/03145.jpg\r\n",
      "    41\t/home/kim/juche/projects/DeFRCN/datasets/main/JPEGImages/02138.jpg\r\n",
      "    42\t/home/kim/juche/projects/DeFRCN/datasets/main/JPEGImages/00050.jpg\r\n",
      "    43\t/home/kim/juche/projects/DeFRCN/datasets/main/JPEGImages/03572.jpg\r\n",
      "    44\t/home/kim/juche/projects/DeFRCN/datasets/main/JPEGImages/02705.jpg\r\n",
      "    45\t/home/kim/juche/projects/DeFRCN/datasets/main/JPEGImages/01019.jpg\r\n",
      "    46\t/home/kim/juche/projects/DeFRCN/datasets/main/JPEGImages/02536.jpg\r\n",
      "    47\t/home/kim/juche/projects/DeFRCN/datasets/main/JPEGImages/04724.jpg\r\n",
      "    48\t/home/kim/juche/projects/DeFRCN/datasets/main/JPEGImages/03778.jpg\r\n",
      "    49\t/home/kim/juche/projects/DeFRCN/datasets/main/JPEGImages/04736.jpg\r\n",
      "    50\t/home/kim/juche/projects/DeFRCN/datasets/main/JPEGImages/02486.jpg\r\n",
      "    51\t/home/kim/juche/projects/DeFRCN/datasets/main/JPEGImages/03057.jpg\r\n",
      "    52\t/home/kim/juche/projects/DeFRCN/datasets/main/JPEGImages/00170.jpg\r\n",
      "    53\t/home/kim/juche/projects/DeFRCN/datasets/main/JPEGImages/02790.jpg\r\n",
      "    54\t/home/kim/juche/projects/DeFRCN/datasets/main/JPEGImages/04371.jpg\r\n",
      "    55\t/home/kim/juche/projects/DeFRCN/datasets/main/JPEGImages/01585.jpg\r\n",
      "    56\t/home/kim/juche/projects/DeFRCN/datasets/main/JPEGImages/04332.jpg\r\n",
      "    57\t/home/kim/juche/projects/DeFRCN/datasets/main/JPEGImages/04497.jpg\r\n",
      "    58\t/home/kim/juche/projects/DeFRCN/datasets/main/JPEGImages/01288.jpg\r\n",
      "    59\t/home/kim/juche/projects/DeFRCN/datasets/main/JPEGImages/02694.jpg\r\n",
      "    60\t/home/kim/juche/projects/DeFRCN/datasets/main/JPEGImages/05851.jpg\r\n",
      "    61\t/home/kim/juche/projects/DeFRCN/datasets/main/JPEGImages/00955.jpg\r\n",
      "    62\t/home/kim/juche/projects/DeFRCN/datasets/main/JPEGImages/01947.jpg\r\n",
      "    63\t/home/kim/juche/projects/DeFRCN/datasets/main/JPEGImages/01261.jpg\r\n",
      "    64\t/home/kim/juche/projects/DeFRCN/datasets/main/JPEGImages/02884.jpg\r\n"
     ]
    }
   ],
   "source": [
    "! cat -n paths_coco_test_100.txt"
   ]
  },
  {
   "cell_type": "code",
   "execution_count": 19,
   "metadata": {},
   "outputs": [
    {
     "name": "stdout",
     "output_type": "stream",
     "text": [
      "['/home/kim/juche/projects/DeFRCN/datasets/main/JPEGImages/02779.jpg', '/home/kim/juche/projects/DeFRCN/datasets/main/JPEGImages/00103.jpg', '/home/kim/juche/projects/DeFRCN/datasets/main/JPEGImages/06349.jpg', '/home/kim/juche/projects/DeFRCN/datasets/main/JPEGImages/06374.jpg', '/home/kim/juche/projects/DeFRCN/datasets/main/JPEGImages/00167.jpg', '/home/kim/juche/projects/DeFRCN/datasets/main/JPEGImages/06206.jpg', '/home/kim/juche/projects/DeFRCN/datasets/main/JPEGImages/03603.jpg', '/home/kim/juche/projects/DeFRCN/datasets/main/JPEGImages/06324.jpg', '/home/kim/juche/projects/DeFRCN/datasets/main/JPEGImages/02410.jpg', '/home/kim/juche/projects/DeFRCN/datasets/main/JPEGImages/02958.jpg']\n"
     ]
    },
    {
     "name": "stderr",
     "output_type": "stream",
     "text": [
      " 20%|██        | 2/10 [00:00<00:00, 19.61it/s]"
     ]
    },
    {
     "name": "stdout",
     "output_type": "stream",
     "text": [
      "DRAWING: 02779.jpg\n",
      "DRAWING: 00103.jpg\n",
      "DRAWING: 06349.jpg\n",
      "DRAWING: 06374.jpg\n"
     ]
    },
    {
     "name": "stderr",
     "output_type": "stream",
     "text": [
      " 60%|██████    | 6/10 [00:00<00:00, 15.16it/s]"
     ]
    },
    {
     "name": "stdout",
     "output_type": "stream",
     "text": [
      "DRAWING: 00167.jpg\n",
      "DRAWING: 06206.jpg\n",
      "DRAWING: 03603.jpg\n",
      "DRAWING: 06324.jpg\n"
     ]
    },
    {
     "name": "stderr",
     "output_type": "stream",
     "text": [
      "100%|██████████| 10/10 [00:00<00:00, 16.74it/s]"
     ]
    },
    {
     "name": "stdout",
     "output_type": "stream",
     "text": [
      "DRAWING: 02410.jpg\n",
      "DRAWING: 02958.jpg\n",
      "Saved results to: ./results/detection_coco_20220519-1907/result.json\n"
     ]
    },
    {
     "name": "stderr",
     "output_type": "stream",
     "text": [
      "\n"
     ]
    },
    {
     "data": {
      "text/plain": [
       "'./results/detection_coco_20220519-1907/result.json'"
      ]
     },
     "execution_count": 19,
     "metadata": {},
     "output_type": "execute_result"
    }
   ],
   "source": [
    "# %%timeit\n",
    "# %%memit TODO: not found\n",
    "ddesc.describe_image_list(files_list_txt=\"paths_coco_test_10.txt\", out_dir='results/detection_coco')"
   ]
  },
  {
   "cell_type": "code",
   "execution_count": null,
   "metadata": {},
   "outputs": [
    {
     "name": "stdout",
     "output_type": "stream",
     "text": [
      "['/home/kim/juche/projects/DeFRCN/datasets/main/JPEGImages/03711.jpg', '/home/kim/juche/projects/DeFRCN/datasets/main/JPEGImages/04660.jpg', '/home/kim/juche/projects/DeFRCN/datasets/main/JPEGImages/05168.jpg', '/home/kim/juche/projects/DeFRCN/datasets/main/JPEGImages/03080.jpg', '/home/kim/juche/projects/DeFRCN/datasets/main/JPEGImages/04671.jpg', '/home/kim/juche/projects/DeFRCN/datasets/main/JPEGImages/00843.jpg', '/home/kim/juche/projects/DeFRCN/datasets/main/JPEGImages/03771.jpg', '/home/kim/juche/projects/DeFRCN/datasets/main/JPEGImages/05665.jpg', '/home/kim/juche/projects/DeFRCN/datasets/main/JPEGImages/05584.jpg', '/home/kim/juche/projects/DeFRCN/datasets/main/JPEGImages/04667.jpg', '/home/kim/juche/projects/DeFRCN/datasets/main/JPEGImages/06361.jpg', '/home/kim/juche/projects/DeFRCN/datasets/main/JPEGImages/04979.jpg', '/home/kim/juche/projects/DeFRCN/datasets/main/JPEGImages/00260.jpg', '/home/kim/juche/projects/DeFRCN/datasets/main/JPEGImages/00661.jpg', '/home/kim/juche/projects/DeFRCN/datasets/main/JPEGImages/04722.jpg', '/home/kim/juche/projects/DeFRCN/datasets/main/JPEGImages/04165.jpg', '/home/kim/juche/projects/DeFRCN/datasets/main/JPEGImages/00908.jpg', '/home/kim/juche/projects/DeFRCN/datasets/main/JPEGImages/06622.jpg', '/home/kim/juche/projects/DeFRCN/datasets/main/JPEGImages/00788.jpg', '/home/kim/juche/projects/DeFRCN/datasets/main/JPEGImages/00516.jpg', '/home/kim/juche/projects/DeFRCN/datasets/main/JPEGImages/03783.jpg', '/home/kim/juche/projects/DeFRCN/datasets/main/JPEGImages/00778.jpg', '/home/kim/juche/projects/DeFRCN/datasets/main/JPEGImages/01738.jpg', '/home/kim/juche/projects/DeFRCN/datasets/main/JPEGImages/01960.jpg', '/home/kim/juche/projects/DeFRCN/datasets/main/JPEGImages/03088.jpg', '/home/kim/juche/projects/DeFRCN/datasets/main/JPEGImages/01054.jpg', '/home/kim/juche/projects/DeFRCN/datasets/main/JPEGImages/06254.jpg', '/home/kim/juche/projects/DeFRCN/datasets/main/JPEGImages/01947.jpg', '/home/kim/juche/projects/DeFRCN/datasets/main/JPEGImages/04710.jpg', '/home/kim/juche/projects/DeFRCN/datasets/main/JPEGImages/00586.jpg', '/home/kim/juche/projects/DeFRCN/datasets/main/JPEGImages/05852.jpg', '/home/kim/juche/projects/DeFRCN/datasets/main/JPEGImages/06355.jpg', '/home/kim/juche/projects/DeFRCN/datasets/main/JPEGImages/00910.jpg', '/home/kim/juche/projects/DeFRCN/datasets/main/JPEGImages/01441.jpg', '/home/kim/juche/projects/DeFRCN/datasets/main/JPEGImages/03834.jpg', '/home/kim/juche/projects/DeFRCN/datasets/main/JPEGImages/00549.jpg', '/home/kim/juche/projects/DeFRCN/datasets/main/JPEGImages/02766.jpg', '/home/kim/juche/projects/DeFRCN/datasets/main/JPEGImages/05257.jpg', '/home/kim/juche/projects/DeFRCN/datasets/main/JPEGImages/04146.jpg', '/home/kim/juche/projects/DeFRCN/datasets/main/JPEGImages/03145.jpg', '/home/kim/juche/projects/DeFRCN/datasets/main/JPEGImages/02138.jpg', '/home/kim/juche/projects/DeFRCN/datasets/main/JPEGImages/00050.jpg', '/home/kim/juche/projects/DeFRCN/datasets/main/JPEGImages/03572.jpg', '/home/kim/juche/projects/DeFRCN/datasets/main/JPEGImages/02705.jpg', '/home/kim/juche/projects/DeFRCN/datasets/main/JPEGImages/01019.jpg', '/home/kim/juche/projects/DeFRCN/datasets/main/JPEGImages/02536.jpg', '/home/kim/juche/projects/DeFRCN/datasets/main/JPEGImages/04724.jpg', '/home/kim/juche/projects/DeFRCN/datasets/main/JPEGImages/03778.jpg', '/home/kim/juche/projects/DeFRCN/datasets/main/JPEGImages/04736.jpg', '/home/kim/juche/projects/DeFRCN/datasets/main/JPEGImages/02486.jpg', '/home/kim/juche/projects/DeFRCN/datasets/main/JPEGImages/03057.jpg', '/home/kim/juche/projects/DeFRCN/datasets/main/JPEGImages/00170.jpg', '/home/kim/juche/projects/DeFRCN/datasets/main/JPEGImages/02790.jpg', '/home/kim/juche/projects/DeFRCN/datasets/main/JPEGImages/04371.jpg', '/home/kim/juche/projects/DeFRCN/datasets/main/JPEGImages/01585.jpg', '/home/kim/juche/projects/DeFRCN/datasets/main/JPEGImages/04332.jpg', '/home/kim/juche/projects/DeFRCN/datasets/main/JPEGImages/04497.jpg', '/home/kim/juche/projects/DeFRCN/datasets/main/JPEGImages/01288.jpg', '/home/kim/juche/projects/DeFRCN/datasets/main/JPEGImages/02694.jpg', '/home/kim/juche/projects/DeFRCN/datasets/main/JPEGImages/05851.jpg', '/home/kim/juche/projects/DeFRCN/datasets/main/JPEGImages/00955.jpg', '/home/kim/juche/projects/DeFRCN/datasets/main/JPEGImages/01947.jpg', '/home/kim/juche/projects/DeFRCN/datasets/main/JPEGImages/01261.jpg', '/home/kim/juche/projects/DeFRCN/datasets/main/JPEGImages/02884.jpg']\n"
     ]
    },
    {
     "name": "stderr",
     "output_type": "stream",
     "text": [
      "  3%|▎         | 2/64 [00:00<00:04, 14.04it/s]"
     ]
    },
    {
     "name": "stdout",
     "output_type": "stream",
     "text": [
      "DRAWING: 03711.jpg\n",
      "DRAWING: 04660.jpg\n",
      "DRAWING: 05168.jpg\n"
     ]
    },
    {
     "name": "stderr",
     "output_type": "stream",
     "text": [
      "  9%|▉         | 6/64 [00:00<00:03, 14.85it/s]"
     ]
    },
    {
     "name": "stdout",
     "output_type": "stream",
     "text": [
      "DRAWING: 03080.jpg\n",
      "DRAWING: 04671.jpg\n",
      "DRAWING: 00843.jpg\n",
      "DRAWING: 03771.jpg\n"
     ]
    },
    {
     "name": "stderr",
     "output_type": "stream",
     "text": [
      "\r",
      " 12%|█▎        | 8/64 [00:00<00:03, 14.86it/s]"
     ]
    },
    {
     "name": "stdout",
     "output_type": "stream",
     "text": [
      "DRAWING: 05665.jpg\n",
      "DRAWING: 05584.jpg\n"
     ]
    },
    {
     "name": "stderr",
     "output_type": "stream",
     "text": [
      "\r",
      " 16%|█▌        | 10/64 [00:00<00:03, 13.74it/s]"
     ]
    },
    {
     "name": "stdout",
     "output_type": "stream",
     "text": [
      "DRAWING: 04667.jpg\n"
     ]
    },
    {
     "name": "stderr",
     "output_type": "stream",
     "text": [
      "\r",
      " 19%|█▉        | 12/64 [00:00<00:03, 13.43it/s]"
     ]
    },
    {
     "name": "stdout",
     "output_type": "stream",
     "text": [
      "DRAWING: 06361.jpg\n",
      "DRAWING: 04979.jpg\n",
      "DRAWING: 00260.jpg\n",
      "DRAWING: 00661.jpg\n"
     ]
    },
    {
     "name": "stderr",
     "output_type": "stream",
     "text": [
      "\r",
      " 23%|██▎       | 15/64 [00:00<00:03, 16.02it/s]"
     ]
    },
    {
     "name": "stdout",
     "output_type": "stream",
     "text": [
      "DRAWING: 04722.jpg\n",
      "DRAWING: 04165.jpg\n",
      "DRAWING: 00908.jpg\n"
     ]
    },
    {
     "name": "stderr",
     "output_type": "stream",
     "text": [
      "\r",
      " 28%|██▊       | 18/64 [00:01<00:02, 16.60it/s]"
     ]
    },
    {
     "name": "stdout",
     "output_type": "stream",
     "text": [
      "DRAWING: 06622.jpg\n"
     ]
    },
    {
     "name": "stderr",
     "output_type": "stream",
     "text": [
      "\r",
      " 33%|███▎      | 21/64 [00:01<00:02, 18.44it/s]"
     ]
    },
    {
     "name": "stdout",
     "output_type": "stream",
     "text": [
      "DRAWING: 00788.jpg\n",
      "DRAWING: 00516.jpg\n",
      "DRAWING: 03783.jpg\n",
      "DRAWING: 00778.jpg\n",
      "DRAWING: 01738.jpg\n"
     ]
    },
    {
     "name": "stderr",
     "output_type": "stream",
     "text": [
      "\r",
      " 38%|███▊      | 24/64 [00:01<00:01, 20.30it/s]"
     ]
    },
    {
     "name": "stdout",
     "output_type": "stream",
     "text": [
      "DRAWING: 01960.jpg\n",
      "DRAWING: 03088.jpg\n",
      "DRAWING: 01054.jpg\n",
      "DRAWING: 06254.jpg\n"
     ]
    },
    {
     "name": "stderr",
     "output_type": "stream",
     "text": [
      " 45%|████▌     | 29/64 [00:01<00:01, 18.16it/s]"
     ]
    },
    {
     "name": "stdout",
     "output_type": "stream",
     "text": [
      "DRAWING: 01947.jpg\n",
      "DRAWING: 04710.jpg\n",
      "DRAWING: 00586.jpg\n",
      "DRAWING: 05852.jpg\n"
     ]
    },
    {
     "name": "stderr",
     "output_type": "stream",
     "text": [
      " 56%|█████▋    | 36/64 [00:02<00:01, 18.38it/s]"
     ]
    },
    {
     "name": "stdout",
     "output_type": "stream",
     "text": [
      "DRAWING: 06355.jpg\n",
      "DRAWING: 00910.jpg\n",
      "DRAWING: 01441.jpg\n",
      "DRAWING: 03834.jpg\n",
      "DRAWING: 00549.jpg\n"
     ]
    },
    {
     "name": "stderr",
     "output_type": "stream",
     "text": [
      "\r",
      " 59%|█████▉    | 38/64 [00:02<00:01, 17.38it/s]"
     ]
    },
    {
     "name": "stdout",
     "output_type": "stream",
     "text": [
      "DRAWING: 02766.jpg\n",
      "DRAWING: 05257.jpg\n",
      "DRAWING: 04146.jpg\n",
      "DRAWING: 03145.jpg\n",
      "DRAWING: 02138.jpg\n"
     ]
    },
    {
     "name": "stderr",
     "output_type": "stream",
     "text": [
      " 69%|██████▉   | 44/64 [00:02<00:00, 21.49it/s]"
     ]
    },
    {
     "name": "stdout",
     "output_type": "stream",
     "text": [
      "DRAWING: 00050.jpg\n",
      "DRAWING: 03572.jpg\n",
      "DRAWING: 02705.jpg\n",
      "DRAWING: 01019.jpg\n",
      "DRAWING: 02536.jpg\n",
      "DRAWING: 04724.jpg\n"
     ]
    },
    {
     "name": "stderr",
     "output_type": "stream",
     "text": [
      "\r",
      " 73%|███████▎  | 47/64 [00:02<00:00, 20.89it/s]"
     ]
    }
   ],
   "source": [
    "# %%timeit\n",
    "# %%memit TODO: not found\n",
    "ddesc.describe_image_list(files_list_txt=\"paths_coco_test_100.txt\", out_dir='results/detection_coco')"
   ]
  },
  {
   "cell_type": "code",
   "execution_count": 4,
   "metadata": {},
   "outputs": [],
   "source": [
    "def get_image_fn_listing(rootdir, indices=None):\n",
    "    rootdir_abs = os.path.abspath(rootdir)\n",
    "#     print(rootdir_abs)\n",
    "    paths = np.array([os.path.join(rootdir_abs, _)+\"\\n\" \\\n",
    "                      for _ in os.listdir(rootdir_abs) \\\n",
    "                      if os.path.splitext(_)[-1] in [\".jpg\"]])\n",
    "    if indices:\n",
    "        paths = paths[indices]\n",
    "    return list(paths)"
   ]
  },
  {
   "cell_type": "code",
   "execution_count": 5,
   "metadata": {},
   "outputs": [],
   "source": [
    "with open(\"paths_coco_test_500.txt\", encoding=\"utf-8\", mode=\"w\") as f:\n",
    "    paths = get_image_fn_listing(rootdir=\"./datasets/main/JPEGImages/\", indices=rand_indices)\n",
    "    f.writelines(paths)"
   ]
  },
  {
   "cell_type": "code",
   "execution_count": 6,
   "metadata": {},
   "outputs": [],
   "source": [
    "with open(\"paths_coco_test_100.txt\", encoding=\"utf-8\", mode=\"r\") as f:\n",
    "    paths = f.readlines()[:64]\n",
    "#     paths.extend(f.readlines()[66:100])\n",
    "with open(\"paths_coco_test_100.txt\", encoding=\"utf-8\", mode=\"w\") as f:    \n",
    "    f.writelines(paths)"
   ]
  }
 ],
 "metadata": {
  "kernelspec": {
   "display_name": "defrcn",
   "language": "python",
   "name": "defrcn"
  },
  "language_info": {
   "codemirror_mode": {
    "name": "ipython",
    "version": 3
   },
   "file_extension": ".py",
   "mimetype": "text/x-python",
   "name": "python",
   "nbconvert_exporter": "python",
   "pygments_lexer": "ipython3",
   "version": "3.6.9"
  },
  "latex_envs": {
   "LaTeX_envs_menu_present": true,
   "autoclose": false,
   "autocomplete": true,
   "bibliofile": "biblio.bib",
   "cite_by": "apalike",
   "current_citInitial": 1,
   "eqLabelWithNumbers": true,
   "eqNumInitial": 1,
   "hotkeys": {
    "equation": "Ctrl-E",
    "itemize": "Ctrl-I"
   },
   "labels_anchors": false,
   "latex_user_defs": false,
   "report_style_numbering": false,
   "user_envs_cfg": false
  }
 },
 "nbformat": 4,
 "nbformat_minor": 2
}
